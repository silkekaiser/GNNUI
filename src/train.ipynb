{
 "cells": [
  {
   "cell_type": "markdown",
   "id": "164d1ef8",
   "metadata": {},
   "source": [
    "Train GNNUI"
   ]
  },
  {
   "cell_type": "markdown",
   "id": "dd1e0eb2",
   "metadata": {},
   "source": [
    "Script shows exemplary training of GNNUI model."
   ]
  },
  {
   "cell_type": "code",
   "execution_count": 1,
   "id": "ea9e52cd",
   "metadata": {},
   "outputs": [],
   "source": [
    "from main import train_GNNUI_model"
   ]
  },
  {
   "cell_type": "code",
   "execution_count": null,
   "id": "e8a84d9c",
   "metadata": {},
   "outputs": [
    {
     "name": "stderr",
     "output_type": "stream",
     "text": [
      "2025-05-07 08:34:57,887 - INFO - Starting GNNUI model training...\n",
      "2025-05-07 08:34:57,889 - INFO - Controlling if the combination of parameters is possible...\n",
      "2025-05-07 08:34:57,890 - WARNING - Using 10.00% of the total data as the test set, but there are 0 cross-validation groups. Some data might not be used for testing.\n",
      "2025-05-07 08:34:57,891 - INFO - Combination of parameters control passed.\n",
      "2025-05-07 08:34:57,896 - INFO - Asserting counting station index...\n",
      "2025-05-07 08:34:57,896 - INFO - Counting station index assertion passed.\n",
      "2025-05-07 08:34:57,946 - INFO - Asserting target feature statements...\n",
      "2025-05-07 08:34:57,947 - INFO - Target feature statements assertion passed.\n",
      "2025-05-07 08:35:33,617 - INFO - Asserting data correctness in reference to extrapolation and masked sensors...\n",
      "2025-05-07 08:35:46,261 - INFO - Data correctness in reference to extrapolation and masked sensors assertion passed.\n",
      "2025-05-07 08:36:06,115 - INFO - Epoch 1/1\n",
      "2025-05-07 08:36:06,116 - INFO - Generating random list of possible t_random values with max_value=1826 and h=2...\n",
      "2025-05-07 08:36:06,117 - INFO - Random list of t_random values generated.\n"
     ]
    },
    {
     "ename": "KeyboardInterrupt",
     "evalue": "",
     "output_type": "error",
     "traceback": [
      "\u001b[0;31m---------------------------------------------------------------------------\u001b[0m",
      "\u001b[0;31mKeyboardInterrupt\u001b[0m                         Traceback (most recent call last)",
      "Cell \u001b[0;32mIn[2], line 6\u001b[0m\n\u001b[1;32m      1\u001b[0m \u001b[38;5;66;03m# GNNUI FOR STRAVA\u001b[39;00m\n\u001b[1;32m      2\u001b[0m (MAE_test_last,\n\u001b[1;32m      3\u001b[0m     RMSE_test_last,\n\u001b[1;32m      4\u001b[0m     NLL_test_last,\n\u001b[1;32m      5\u001b[0m     KL_Divergence,\n\u001b[0;32m----> 6\u001b[0m     true_zero_rate)\u001b[38;5;241m=\u001b[39m\u001b[43mtrain_GNNUI_model\u001b[49m\u001b[43m(\u001b[49m\n\u001b[1;32m      7\u001b[0m \u001b[43m    \u001b[49m\u001b[43mn_o_n_m\u001b[49m\u001b[43m \u001b[49m\u001b[38;5;241;43m=\u001b[39;49m\u001b[43m \u001b[49m\u001b[38;5;241;43m2500\u001b[39;49m\u001b[43m,\u001b[49m\n\u001b[1;32m      8\u001b[0m \u001b[43m    \u001b[49m\u001b[43mh\u001b[49m\u001b[43m \u001b[49m\u001b[38;5;241;43m=\u001b[39;49m\u001b[43m \u001b[49m\u001b[38;5;241;43m2\u001b[39;49m\u001b[43m,\u001b[49m\n\u001b[1;32m      9\u001b[0m \u001b[43m    \u001b[49m\u001b[43mz\u001b[49m\u001b[43m \u001b[49m\u001b[38;5;241;43m=\u001b[39;49m\u001b[43m \u001b[49m\u001b[38;5;241;43m100\u001b[39;49m\u001b[43m,\u001b[49m\n\u001b[1;32m     10\u001b[0m \u001b[43m    \u001b[49m\u001b[43mK\u001b[49m\u001b[43m \u001b[49m\u001b[38;5;241;43m=\u001b[39;49m\u001b[43m \u001b[49m\u001b[38;5;241;43m1\u001b[39;49m\u001b[43m,\u001b[49m\n\u001b[1;32m     11\u001b[0m \u001b[43m    \u001b[49m\u001b[43mn_m\u001b[49m\u001b[43m \u001b[49m\u001b[38;5;241;43m=\u001b[39;49m\u001b[43m \u001b[49m\u001b[38;5;241;43m500\u001b[39;49m\u001b[43m,\u001b[49m\n\u001b[1;32m     12\u001b[0m \u001b[43m    \u001b[49m\u001b[43mnum_epochs\u001b[49m\u001b[43m \u001b[49m\u001b[38;5;241;43m=\u001b[39;49m\u001b[43m \u001b[49m\u001b[38;5;241;43m1\u001b[39;49m\u001b[43m,\u001b[49m\u001b[38;5;66;43;03m# 250,\u001b[39;49;00m\n\u001b[1;32m     13\u001b[0m \u001b[43m    \u001b[49m\u001b[43mlearning_rate\u001b[49m\u001b[43m \u001b[49m\u001b[38;5;241;43m=\u001b[39;49m\u001b[43m \u001b[49m\u001b[38;5;241;43m0.0001\u001b[39;49m\u001b[43m,\u001b[49m\n\u001b[1;32m     14\u001b[0m \u001b[43m    \u001b[49m\u001b[43mbatch_size\u001b[49m\u001b[43m \u001b[49m\u001b[38;5;241;43m=\u001b[39;49m\u001b[43m \u001b[49m\u001b[38;5;241;43m30\u001b[39;49m\u001b[43m,\u001b[49m\n\u001b[1;32m     15\u001b[0m \u001b[43m    \u001b[49m\u001b[43minclude_node_features\u001b[49m\u001b[43m \u001b[49m\u001b[38;5;241;43m=\u001b[39;49m\u001b[43m \u001b[49m\u001b[38;5;28;43;01mTrue\u001b[39;49;00m\u001b[43m,\u001b[49m\n\u001b[1;32m     16\u001b[0m \u001b[43m    \u001b[49m\u001b[43minclude_node_features_if_observation_are_masked_or_missing\u001b[49m\u001b[43m \u001b[49m\u001b[38;5;241;43m=\u001b[39;49m\u001b[43m \u001b[49m\u001b[38;5;28;43;01mTrue\u001b[39;49;00m\u001b[43m,\u001b[49m\n\u001b[1;32m     17\u001b[0m \u001b[43m    \u001b[49m\u001b[43mfeature_selection\u001b[49m\u001b[43m \u001b[49m\u001b[38;5;241;43m=\u001b[39;49m\u001b[43m \u001b[49m\u001b[38;5;124;43m\"\u001b[39;49m\u001b[38;5;124;43mfull_data_all_features_for_strava_as_target\u001b[39;49m\u001b[38;5;124;43m\"\u001b[39;49m\u001b[43m,\u001b[49m\n\u001b[1;32m     18\u001b[0m \u001b[43m    \u001b[49m\u001b[43monly_extrapolation_and_no_forecasting\u001b[49m\u001b[43m \u001b[49m\u001b[38;5;241;43m=\u001b[39;49m\u001b[43m \u001b[49m\u001b[38;5;28;43;01mTrue\u001b[39;49;00m\u001b[43m,\u001b[49m\n\u001b[1;32m     19\u001b[0m \u001b[43m    \u001b[49m\u001b[43mtype_of_adjacency_matrix\u001b[49m\u001b[43m \u001b[49m\u001b[38;5;241;43m=\u001b[39;49m\u001b[43m \u001b[49m\u001b[38;5;124;43m'\u001b[39;49m\u001b[38;5;124;43mbinary\u001b[39;49m\u001b[38;5;124;43m'\u001b[39;49m\u001b[43m,\u001b[49m\n\u001b[1;32m     20\u001b[0m \u001b[43m    \u001b[49m\u001b[43minclude_entire_graph_test_segments\u001b[49m\u001b[38;5;241;43m=\u001b[39;49m\u001b[43m \u001b[49m\u001b[38;5;28;43;01mTrue\u001b[39;49;00m\u001b[43m,\u001b[49m\n\u001b[1;32m     21\u001b[0m \u001b[43m    \u001b[49m\u001b[43mpercentage_of_segments_used_for_test\u001b[49m\u001b[43m \u001b[49m\u001b[38;5;241;43m=\u001b[39;49m\u001b[43m \u001b[49m\u001b[38;5;241;43m0.1\u001b[39;49m\u001b[43m,\u001b[49m\n\u001b[1;32m     22\u001b[0m \u001b[43m    \u001b[49m\u001b[43mpercentage_of_segments_used_for_training\u001b[49m\u001b[43m \u001b[49m\u001b[38;5;241;43m=\u001b[39;49m\u001b[43m \u001b[49m\u001b[38;5;241;43m0.9\u001b[39;49m\u001b[43m,\u001b[49m\n\u001b[1;32m     23\u001b[0m \u001b[43m    \u001b[49m\u001b[43mpercentage_of_the_training_data_used_for_validation\u001b[49m\u001b[43m \u001b[49m\u001b[38;5;241;43m=\u001b[39;49m\u001b[43m \u001b[49m\u001b[38;5;241;43m0.1\u001b[39;49m\u001b[43m,\u001b[49m\n\u001b[1;32m     24\u001b[0m \u001b[43m    \u001b[49m\u001b[43minclude_entire_graph_train_segments\u001b[49m\u001b[43m \u001b[49m\u001b[38;5;241;43m=\u001b[39;49m\u001b[43m \u001b[49m\u001b[38;5;28;43;01mTrue\u001b[39;49;00m\u001b[43m,\u001b[49m\n\u001b[1;32m     25\u001b[0m \u001b[43m    \u001b[49m\u001b[43mchoose_t_random_better\u001b[49m\u001b[38;5;241;43m=\u001b[39;49m\u001b[38;5;28;43;01mTrue\u001b[39;49;00m\u001b[43m,\u001b[49m\n\u001b[1;32m     26\u001b[0m \u001b[43m    \u001b[49m\u001b[43mtarget_feature\u001b[49m\u001b[43m \u001b[49m\u001b[38;5;241;43m=\u001b[39;49m\u001b[43m \u001b[49m\u001b[38;5;124;43m\"\u001b[39;49m\u001b[38;5;124;43mstrava_total_trip_count\u001b[39;49m\u001b[38;5;124;43m\"\u001b[39;49m\u001b[43m,\u001b[49m\n\u001b[1;32m     27\u001b[0m \u001b[43m    \u001b[49m\u001b[43mschedule_learning_rate\u001b[49m\u001b[38;5;241;43m=\u001b[39;49m\u001b[38;5;28;43;01mTrue\u001b[39;49;00m\u001b[43m,\u001b[49m\n\u001b[1;32m     28\u001b[0m \u001b[43m    \u001b[49m\u001b[43mcompute_train_error_on_hidden_counter_only\u001b[49m\u001b[38;5;241;43m=\u001b[39;49m\u001b[38;5;28;43;01mTrue\u001b[39;49;00m\u001b[43m,\u001b[49m\n\u001b[1;32m     29\u001b[0m \u001b[43m    \u001b[49m\u001b[43mcompute_test_error_on_hidden_counter_only\u001b[49m\u001b[38;5;241;43m=\u001b[39;49m\u001b[38;5;28;43;01mTrue\u001b[39;49;00m\u001b[43m,\u001b[49m\n\u001b[1;32m     30\u001b[0m \u001b[43m    \u001b[49m\u001b[43moverfitting_drop_out_rate\u001b[49m\u001b[38;5;241;43m=\u001b[39;49m\u001b[38;5;241;43m0\u001b[39;49m\u001b[43m,\u001b[49m\n\u001b[1;32m     31\u001b[0m \u001b[43m    \u001b[49m\u001b[43mweight_decay\u001b[49m\u001b[38;5;241;43m=\u001b[39;49m\u001b[38;5;241;43m0\u001b[39;49m\u001b[43m,\u001b[49m\n\u001b[1;32m     32\u001b[0m \u001b[43m    \u001b[49m\u001b[43mtype_of_loss\u001b[49m\u001b[38;5;241;43m=\u001b[39;49m\u001b[38;5;124;43m\"\u001b[39;49m\u001b[38;5;124;43mZINB\u001b[39;49m\u001b[38;5;124;43m\"\u001b[39;49m\u001b[43m,\u001b[49m\n\u001b[1;32m     33\u001b[0m \u001b[43m    \u001b[49m\u001b[43mpatience_for_early_stopping_epochs\u001b[49m\u001b[38;5;241;43m=\u001b[39;49m\u001b[38;5;241;43m10\u001b[39;49m\u001b[43m,\u001b[49m\n\u001b[1;32m     34\u001b[0m \u001b[43m    \u001b[49m\u001b[43mcross_validation_group\u001b[49m\u001b[38;5;241;43m=\u001b[39;49m\u001b[38;5;241;43m0\u001b[39;49m\u001b[43m,\u001b[49m\n\u001b[1;32m     35\u001b[0m \u001b[43m    \u001b[49m\u001b[43mdevice\u001b[49m\u001b[38;5;241;43m=\u001b[39;49m\u001b[38;5;124;43m\"\u001b[39;49m\u001b[38;5;124;43mcuda:3\u001b[39;49m\u001b[38;5;124;43m\"\u001b[39;49m\u001b[43m,\u001b[49m\n\u001b[1;32m     36\u001b[0m \u001b[43m    \u001b[49m\u001b[43mdo_IGNNK\u001b[49m\u001b[38;5;241;43m=\u001b[39;49m\u001b[38;5;28;43;01mFalse\u001b[39;49;00m\u001b[43m,\u001b[49m\n\u001b[1;32m     37\u001b[0m \u001b[43m    \u001b[49m\u001b[43monly_compute_test_error\u001b[49m\u001b[38;5;241;43m=\u001b[39;49m\u001b[38;5;28;43;01mFalse\u001b[39;49;00m\u001b[43m,\u001b[49m\n\u001b[1;32m     38\u001b[0m \u001b[43m)\u001b[49m\n",
      "File \u001b[0;32m/workspaces/ProjectTwo/src/GNNUI/ProjectRoot/gnnui/main.py:419\u001b[0m, in \u001b[0;36mtrain_GNNUI_model\u001b[0;34m(n_o_n_m, h, z, K, n_m, num_epochs, learning_rate, batch_size, include_node_features, include_node_features_if_observation_are_masked_or_missing, feature_selection, only_extrapolation_and_no_forecasting, type_of_adjacency_matrix, include_entire_graph_test_segments, percentage_of_segments_used_for_test, percentage_of_segments_used_for_training, percentage_of_the_training_data_used_for_validation, include_entire_graph_train_segments, choose_t_random_better, target_feature, schedule_learning_rate, compute_train_error_on_hidden_counter_only, compute_test_error_on_hidden_counter_only, overfitting_drop_out_rate, weight_decay, type_of_loss, patience_for_early_stopping_epochs, cross_validation_group, device, do_IGNNK, only_compute_test_error)\u001b[0m\n\u001b[1;32m    406\u001b[0m \u001b[38;5;66;03m###########################\u001b[39;00m\n\u001b[1;32m    407\u001b[0m \u001b[38;5;66;03m# Compute validation error\u001b[39;00m\n\u001b[1;32m    408\u001b[0m \u001b[38;5;66;03m###########################\u001b[39;00m\n\u001b[1;32m    410\u001b[0m torch\u001b[38;5;241m.\u001b[39mcuda\u001b[38;5;241m.\u001b[39mempty_cache()\n\u001b[1;32m    411\u001b[0m (\n\u001b[1;32m    412\u001b[0m     MAE_val,\n\u001b[1;32m    413\u001b[0m     RMSE_val,\n\u001b[1;32m    414\u001b[0m     MSE_val,\n\u001b[1;32m    415\u001b[0m     prediction_last_one_val,\n\u001b[1;32m    416\u001b[0m     truth_last_one_val,\n\u001b[1;32m    417\u001b[0m     NLL_val,\n\u001b[1;32m    418\u001b[0m     mask,\n\u001b[0;32m--> 419\u001b[0m ) \u001b[38;5;241m=\u001b[39m \u001b[43mtest_error\u001b[49m\u001b[43m(\u001b[49m\n\u001b[1;32m    420\u001b[0m \u001b[43m    \u001b[49m\u001b[43mGNN_model\u001b[49m\u001b[43m,\u001b[49m\n\u001b[1;32m    421\u001b[0m \u001b[43m    \u001b[49m\u001b[43mA_q_val_primary\u001b[49m\u001b[43m,\u001b[49m\n\u001b[1;32m    422\u001b[0m \u001b[43m    \u001b[49m\u001b[43mA_h_val_primary\u001b[49m\u001b[43m,\u001b[49m\n\u001b[1;32m    423\u001b[0m \u001b[43m    \u001b[49m\u001b[43mA_q_val_secondary\u001b[49m\u001b[43m,\u001b[49m\n\u001b[1;32m    424\u001b[0m \u001b[43m    \u001b[49m\u001b[43mA_h_val_secondary\u001b[49m\u001b[43m,\u001b[49m\n\u001b[1;32m    425\u001b[0m \u001b[43m    \u001b[49m\u001b[43mdevice\u001b[49m\u001b[43m,\u001b[49m\n\u001b[1;32m    426\u001b[0m \u001b[43m    \u001b[49m\u001b[43mtype_of_loss\u001b[49m\u001b[43m,\u001b[49m\n\u001b[1;32m    427\u001b[0m \u001b[43m    \u001b[49m\u001b[43mT_input_batches_val\u001b[49m\u001b[43m,\u001b[49m\n\u001b[1;32m    428\u001b[0m \u001b[43m    \u001b[49m\u001b[43mmask_batches_val\u001b[49m\u001b[43m,\u001b[49m\n\u001b[1;32m    429\u001b[0m \u001b[43m    \u001b[49m\u001b[43mtruth_batches_val\u001b[49m\u001b[43m,\u001b[49m\n\u001b[1;32m    430\u001b[0m \u001b[43m    \u001b[49m\u001b[43mmask_val\u001b[49m\u001b[43m,\u001b[49m\n\u001b[1;32m    431\u001b[0m \u001b[43m    \u001b[49m\u001b[43mtruth_val\u001b[49m\u001b[43m,\u001b[49m\n\u001b[1;32m    432\u001b[0m \u001b[43m\u001b[49m\u001b[43m)\u001b[49m\n\u001b[1;32m    434\u001b[0m gc\u001b[38;5;241m.\u001b[39mcollect()\n\u001b[1;32m    435\u001b[0m torch\u001b[38;5;241m.\u001b[39mcuda\u001b[38;5;241m.\u001b[39mempty_cache()\n",
      "File \u001b[0;32m/workspaces/ProjectTwo/src/GNNUI/ProjectRoot/gnnui/h_evaluation.py:262\u001b[0m, in \u001b[0;36mtest_error\u001b[0;34m(gnn_model, A_q_primary, A_h_primary, A_q_secondary, A_h_secondary, device, type_of_loss_ZINB_NB_classic, T_input_batches, mask_batches, truth_batches, mask, truth)\u001b[0m\n\u001b[1;32m    258\u001b[0m \u001b[38;5;28;01melif\u001b[39;00m type_of_loss_ZINB_NB_classic \u001b[38;5;241m==\u001b[39m \u001b[38;5;124m\"\u001b[39m\u001b[38;5;124mZINB\u001b[39m\u001b[38;5;124m\"\u001b[39m:\n\u001b[1;32m    259\u001b[0m     n_test, p_test, pi_test \u001b[38;5;241m=\u001b[39m gnn_model(\n\u001b[1;32m    260\u001b[0m         T_batch, A_q_primary, A_h_primary, A_q_secondary, A_h_secondary\n\u001b[1;32m    261\u001b[0m     )\n\u001b[0;32m--> 262\u001b[0m     ZINB_test_error_if_applicable \u001b[38;5;241m=\u001b[39m \u001b[43mnb_zeroinflated_nll_loss\u001b[49m\u001b[43m(\u001b[49m\n\u001b[1;32m    263\u001b[0m \u001b[43m        \u001b[49m\u001b[43mtruth_batch\u001b[49m\u001b[43m,\u001b[49m\u001b[43m \u001b[49m\u001b[43mn_test\u001b[49m\u001b[43m,\u001b[49m\u001b[43m \u001b[49m\u001b[43mp_test\u001b[49m\u001b[43m,\u001b[49m\u001b[43m \u001b[49m\u001b[43mpi_test\u001b[49m\u001b[43m,\u001b[49m\u001b[43m \u001b[49m\u001b[43mmask_batch\u001b[49m\u001b[43m,\u001b[49m\u001b[43m \u001b[49m\u001b[43mdevice\u001b[49m\u001b[43m,\u001b[49m\u001b[43m \u001b[49m\u001b[38;5;124;43m\"\u001b[39;49m\u001b[38;5;124;43mmean\u001b[39;49m\u001b[38;5;124;43m\"\u001b[39;49m\n\u001b[1;32m    264\u001b[0m \u001b[43m    \u001b[49m\u001b[43m)\u001b[49m\u001b[38;5;241m.\u001b[39mitem()\n\u001b[1;32m    265\u001b[0m     prediction_batch \u001b[38;5;241m=\u001b[39m (\u001b[38;5;241m1\u001b[39m \u001b[38;5;241m-\u001b[39m pi_test) \u001b[38;5;241m*\u001b[39m (\n\u001b[1;32m    266\u001b[0m         n_test \u001b[38;5;241m/\u001b[39m p_test \u001b[38;5;241m-\u001b[39m n_test\n\u001b[1;32m    267\u001b[0m     )  \u001b[38;5;66;03m# Expected value of ZINB distribution\u001b[39;00m\n\u001b[1;32m    268\u001b[0m \u001b[38;5;28;01melif\u001b[39;00m type_of_loss_ZINB_NB_classic \u001b[38;5;241m==\u001b[39m \u001b[38;5;124m\"\u001b[39m\u001b[38;5;124mNB\u001b[39m\u001b[38;5;124m\"\u001b[39m:\n",
      "File \u001b[0;32m/workspaces/ProjectTwo/src/GNNUI/ProjectRoot/gnnui/h_loss_functions.py:58\u001b[0m, in \u001b[0;36mnb_zeroinflated_nll_loss\u001b[0;34m(y, n, p, pi, y_mask, device, type_of_computation)\u001b[0m\n\u001b[1;32m     55\u001b[0m yg0 \u001b[38;5;241m=\u001b[39m y[idx_yg0]\n\u001b[1;32m     56\u001b[0m weight_yg0 \u001b[38;5;241m=\u001b[39m y_mask[idx_yg0]\n\u001b[0;32m---> 58\u001b[0m L_yeq0 \u001b[38;5;241m=\u001b[39m \u001b[43mtorch\u001b[49m\u001b[38;5;241;43m.\u001b[39;49m\u001b[43mlog\u001b[49m\u001b[43m(\u001b[49m\u001b[43mpi_yeq0\u001b[49m\u001b[43m)\u001b[49m \u001b[38;5;241m+\u001b[39m torch\u001b[38;5;241m.\u001b[39mlog((\u001b[38;5;241m1\u001b[39m \u001b[38;5;241m-\u001b[39m pi_yeq0) \u001b[38;5;241m*\u001b[39m torch\u001b[38;5;241m.\u001b[39mpow(p_yeq0, n_yeq0))\n\u001b[1;32m     59\u001b[0m L_yg0 \u001b[38;5;241m=\u001b[39m (\n\u001b[1;32m     60\u001b[0m     torch\u001b[38;5;241m.\u001b[39mlog(\u001b[38;5;241m1\u001b[39m \u001b[38;5;241m-\u001b[39m pi_yg0)\n\u001b[1;32m     61\u001b[0m     \u001b[38;5;241m+\u001b[39m torch\u001b[38;5;241m.\u001b[39mlgamma(n_yg0 \u001b[38;5;241m+\u001b[39m yg0)\n\u001b[0;32m   (...)\u001b[0m\n\u001b[1;32m     65\u001b[0m     \u001b[38;5;241m+\u001b[39m yg0 \u001b[38;5;241m*\u001b[39m torch\u001b[38;5;241m.\u001b[39mlog(\u001b[38;5;241m1\u001b[39m \u001b[38;5;241m-\u001b[39m p_yg0)\n\u001b[1;32m     66\u001b[0m )\n\u001b[1;32m     68\u001b[0m L_yeq0_weighted \u001b[38;5;241m=\u001b[39m L_yeq0 \u001b[38;5;241m*\u001b[39m weight_yeq0\n",
      "\u001b[0;31mKeyboardInterrupt\u001b[0m: "
     ]
    }
   ],
   "source": [
    "# GNNUI FOR STRAVA\n",
    "(MAE_test_last,\n",
    "    RMSE_test_last,\n",
    "    NLL_test_last,\n",
    "    KL_Divergence,\n",
    "    true_zero_rate)=train_GNNUI_model(\n",
    "    n_o_n_m = 2500,\n",
    "    h = 2,\n",
    "    z = 100,\n",
    "    K = 1,\n",
    "    n_m = 500,\n",
    "    num_epochs = 250,\n",
    "    learning_rate = 0.0001,\n",
    "    batch_size = 30,\n",
    "    include_node_features = True,\n",
    "    include_node_features_if_observation_are_masked_or_missing = True,\n",
    "    feature_selection = \"full_data_all_features_for_strava_as_target\",\n",
    "    only_extrapolation_and_no_forecasting = True,\n",
    "    type_of_adjacency_matrix = 'binary',\n",
    "    include_entire_graph_test_segments= True,\n",
    "    percentage_of_segments_used_for_test = 0.1,\n",
    "    percentage_of_segments_used_for_training = 0.9,\n",
    "    percentage_of_the_training_data_used_for_validation = 0.1,\n",
    "    include_entire_graph_train_segments = True,\n",
    "    choose_t_random_better=True,\n",
    "    target_feature = \"strava_total_trip_count\",\n",
    "    schedule_learning_rate=True,\n",
    "    compute_train_error_on_hidden_counter_only=True,\n",
    "    compute_test_error_on_hidden_counter_only=True,\n",
    "    overfitting_drop_out_rate=0,\n",
    "    weight_decay=0,\n",
    "    type_of_loss=\"ZINB\",\n",
    "    patience_for_early_stopping_epochs=10,\n",
    "    cross_validation_group=0,\n",
    "    device=\"cuda:3\",\n",
    "    do_IGNNK=False,\n",
    "    only_compute_test_error=False,\n",
    ")"
   ]
  },
  {
   "cell_type": "code",
   "execution_count": 2,
   "id": "13a672b6",
   "metadata": {},
   "outputs": [
    {
     "name": "stderr",
     "output_type": "stream",
     "text": [
      "2025-05-06 12:40:28,264 - INFO - Starting GNNUI model training...\n",
      "2025-05-06 12:40:28,266 - INFO - Controlling if the combination of parameters is possible...\n",
      "2025-05-06 12:40:28,267 - WARNING - Using 10.00% of the total data as the test set, but there are 0 cross-validation groups. Some data might not be used for testing.\n",
      "2025-05-06 12:40:28,267 - INFO - Combination of parameters control passed.\n",
      "2025-05-06 12:40:28,274 - INFO - Asserting counting station index...\n",
      "2025-05-06 12:40:28,275 - INFO - Counting station index assertion passed.\n",
      "2025-05-06 12:40:28,320 - INFO - Asserting target feature statements...\n",
      "2025-05-06 12:40:28,321 - INFO - Target feature statements assertion passed.\n",
      "2025-05-06 12:40:52,813 - INFO - Asserting data correctness in reference to extrapolation and masked sensors...\n",
      "2025-05-06 12:41:02,962 - INFO - Data correctness in reference to extrapolation and masked sensors assertion passed.\n",
      "2025-05-06 12:41:19,363 - INFO - Epoch 1/250\n",
      "2025-05-06 12:41:19,364 - INFO - Generating random list of possible t_random values with max_value=1440 and h=3...\n",
      "2025-05-06 12:41:19,365 - INFO - Random list of t_random values generated.\n",
      "2025-05-06 12:42:19,786 - INFO - Epoch 2/250\n",
      "2025-05-06 12:42:19,787 - INFO - Generating random list of possible t_random values with max_value=1440 and h=3...\n",
      "2025-05-06 12:42:19,788 - INFO - Random list of t_random values generated.\n",
      "2025-05-06 12:43:19,471 - INFO - Epoch 3/250\n",
      "2025-05-06 12:43:19,472 - INFO - Generating random list of possible t_random values with max_value=1440 and h=3...\n",
      "2025-05-06 12:43:19,473 - INFO - Random list of t_random values generated.\n"
     ]
    },
    {
     "ename": "KeyboardInterrupt",
     "evalue": "",
     "output_type": "error",
     "traceback": [
      "\u001b[0;31m---------------------------------------------------------------------------\u001b[0m",
      "\u001b[0;31mKeyboardInterrupt\u001b[0m                         Traceback (most recent call last)",
      "Cell \u001b[0;32mIn[2], line 6\u001b[0m\n\u001b[1;32m      1\u001b[0m \u001b[38;5;66;03m# GNNUI FOR TAXI\u001b[39;00m\n\u001b[1;32m      2\u001b[0m (MAE_test_last,\n\u001b[1;32m      3\u001b[0m     RMSE_test_last,\n\u001b[1;32m      4\u001b[0m     NLL_test_last,\n\u001b[1;32m      5\u001b[0m     KL_Divergence,\n\u001b[0;32m----> 6\u001b[0m     true_zero_rate)\u001b[38;5;241m=\u001b[39m\u001b[43mtrain_GNNUI_model\u001b[49m\u001b[43m(\u001b[49m\n\u001b[1;32m      7\u001b[0m \u001b[43m    \u001b[49m\u001b[43mn_o_n_m\u001b[49m\u001b[43m \u001b[49m\u001b[38;5;241;43m=\u001b[39;49m\u001b[43m \u001b[49m\u001b[38;5;241;43m4000\u001b[39;49m\u001b[43m,\u001b[49m\n\u001b[1;32m      8\u001b[0m \u001b[43m    \u001b[49m\u001b[43mh\u001b[49m\u001b[43m \u001b[49m\u001b[38;5;241;43m=\u001b[39;49m\u001b[43m \u001b[49m\u001b[38;5;241;43m3\u001b[39;49m\u001b[43m,\u001b[49m\n\u001b[1;32m      9\u001b[0m \u001b[43m    \u001b[49m\u001b[43mz\u001b[49m\u001b[43m \u001b[49m\u001b[38;5;241;43m=\u001b[39;49m\u001b[43m \u001b[49m\u001b[38;5;241;43m100\u001b[39;49m\u001b[43m,\u001b[49m\n\u001b[1;32m     10\u001b[0m \u001b[43m    \u001b[49m\u001b[43mK\u001b[49m\u001b[43m \u001b[49m\u001b[38;5;241;43m=\u001b[39;49m\u001b[43m \u001b[49m\u001b[38;5;241;43m1\u001b[39;49m\u001b[43m,\u001b[49m\n\u001b[1;32m     11\u001b[0m \u001b[43m    \u001b[49m\u001b[43mn_m\u001b[49m\u001b[43m \u001b[49m\u001b[38;5;241;43m=\u001b[39;49m\u001b[43m \u001b[49m\u001b[38;5;241;43m500\u001b[39;49m\u001b[43m,\u001b[49m\n\u001b[1;32m     12\u001b[0m \u001b[43m    \u001b[49m\u001b[43mnum_epochs\u001b[49m\u001b[43m \u001b[49m\u001b[38;5;241;43m=\u001b[39;49m\u001b[43m \u001b[49m\u001b[38;5;241;43m250\u001b[39;49m\u001b[43m,\u001b[49m\n\u001b[1;32m     13\u001b[0m \u001b[43m    \u001b[49m\u001b[43mlearning_rate\u001b[49m\u001b[43m \u001b[49m\u001b[38;5;241;43m=\u001b[39;49m\u001b[43m \u001b[49m\u001b[38;5;241;43m0.001\u001b[39;49m\u001b[43m,\u001b[49m\n\u001b[1;32m     14\u001b[0m \u001b[43m    \u001b[49m\u001b[43mbatch_size\u001b[49m\u001b[43m  \u001b[49m\u001b[38;5;241;43m=\u001b[39;49m\u001b[43m \u001b[49m\u001b[38;5;241;43m50\u001b[39;49m\u001b[43m,\u001b[49m\n\u001b[1;32m     15\u001b[0m \u001b[43m    \u001b[49m\u001b[43minclude_node_features\u001b[49m\u001b[43m \u001b[49m\u001b[38;5;241;43m=\u001b[39;49m\u001b[43m \u001b[49m\u001b[38;5;28;43;01mTrue\u001b[39;49;00m\u001b[43m,\u001b[49m\n\u001b[1;32m     16\u001b[0m \u001b[43m    \u001b[49m\u001b[43minclude_node_features_if_observation_are_masked_or_missing\u001b[49m\u001b[43m \u001b[49m\u001b[38;5;241;43m=\u001b[39;49m\u001b[43m \u001b[49m\u001b[38;5;28;43;01mTrue\u001b[39;49;00m\u001b[43m,\u001b[49m\n\u001b[1;32m     17\u001b[0m \u001b[43m    \u001b[49m\u001b[43mfeature_selection\u001b[49m\u001b[43m \u001b[49m\u001b[38;5;241;43m=\u001b[39;49m\u001b[43m \u001b[49m\u001b[38;5;124;43m\"\u001b[39;49m\u001b[38;5;124;43mfull_data_all_features_for_taxi_as_target\u001b[39;49m\u001b[38;5;124;43m\"\u001b[39;49m\u001b[43m,\u001b[49m\n\u001b[1;32m     18\u001b[0m \u001b[43m    \u001b[49m\u001b[43monly_extrapolation_and_no_forecasting\u001b[49m\u001b[43m \u001b[49m\u001b[38;5;241;43m=\u001b[39;49m\u001b[43m \u001b[49m\u001b[38;5;28;43;01mTrue\u001b[39;49;00m\u001b[43m,\u001b[49m\n\u001b[1;32m     19\u001b[0m \u001b[43m    \u001b[49m\u001b[43mtype_of_adjacency_matrix\u001b[49m\u001b[43m \u001b[49m\u001b[38;5;241;43m=\u001b[39;49m\u001b[43m \u001b[49m\u001b[38;5;124;43m'\u001b[39;49m\u001b[38;5;124;43mbinary\u001b[39;49m\u001b[38;5;124;43m'\u001b[39;49m\u001b[43m,\u001b[49m\n\u001b[1;32m     20\u001b[0m \u001b[43m    \u001b[49m\u001b[43minclude_entire_graph_test_segments\u001b[49m\u001b[43m \u001b[49m\u001b[38;5;241;43m=\u001b[39;49m\u001b[43m \u001b[49m\u001b[38;5;28;43;01mTrue\u001b[39;49;00m\u001b[43m,\u001b[49m\n\u001b[1;32m     21\u001b[0m \u001b[43m    \u001b[49m\u001b[43mpercentage_of_segments_used_for_test\u001b[49m\u001b[43m \u001b[49m\u001b[38;5;241;43m=\u001b[39;49m\u001b[43m \u001b[49m\u001b[38;5;241;43m0.1\u001b[39;49m\u001b[43m,\u001b[49m\n\u001b[1;32m     22\u001b[0m \u001b[43m    \u001b[49m\u001b[43mpercentage_of_segments_used_for_training\u001b[49m\u001b[43m \u001b[49m\u001b[38;5;241;43m=\u001b[39;49m\u001b[43m \u001b[49m\u001b[38;5;241;43m0.9\u001b[39;49m\u001b[43m,\u001b[49m\n\u001b[1;32m     23\u001b[0m \u001b[43m    \u001b[49m\u001b[43mpercentage_of_the_training_data_used_for_validation\u001b[49m\u001b[43m \u001b[49m\u001b[38;5;241;43m=\u001b[39;49m\u001b[43m \u001b[49m\u001b[38;5;241;43m0.1\u001b[39;49m\u001b[43m,\u001b[49m\n\u001b[1;32m     24\u001b[0m \u001b[43m    \u001b[49m\u001b[43minclude_entire_graph_train_segments\u001b[49m\u001b[43m \u001b[49m\u001b[38;5;241;43m=\u001b[39;49m\u001b[43m \u001b[49m\u001b[38;5;28;43;01mTrue\u001b[39;49;00m\u001b[43m,\u001b[49m\n\u001b[1;32m     25\u001b[0m \u001b[43m    \u001b[49m\u001b[43mchoose_t_random_better\u001b[49m\u001b[43m \u001b[49m\u001b[38;5;241;43m=\u001b[39;49m\u001b[43m \u001b[49m\u001b[38;5;28;43;01mTrue\u001b[39;49;00m\u001b[43m,\u001b[49m\n\u001b[1;32m     26\u001b[0m \u001b[43m    \u001b[49m\u001b[43mtarget_feature\u001b[49m\u001b[43m \u001b[49m\u001b[38;5;241;43m=\u001b[39;49m\u001b[43m \u001b[49m\u001b[38;5;124;43m\"\u001b[39;49m\u001b[38;5;124;43mtaxi_total_trip_count\u001b[39;49m\u001b[38;5;124;43m\"\u001b[39;49m\u001b[43m,\u001b[49m\n\u001b[1;32m     27\u001b[0m \u001b[43m    \u001b[49m\u001b[43mschedule_learning_rate\u001b[49m\u001b[38;5;241;43m=\u001b[39;49m\u001b[38;5;28;43;01mTrue\u001b[39;49;00m\u001b[43m,\u001b[49m\n\u001b[1;32m     28\u001b[0m \u001b[43m    \u001b[49m\u001b[43mcompute_train_error_on_hidden_counter_only\u001b[49m\u001b[38;5;241;43m=\u001b[39;49m\u001b[38;5;28;43;01mTrue\u001b[39;49;00m\u001b[43m,\u001b[49m\n\u001b[1;32m     29\u001b[0m \u001b[43m    \u001b[49m\u001b[43mcompute_test_error_on_hidden_counter_only\u001b[49m\u001b[38;5;241;43m=\u001b[39;49m\u001b[38;5;28;43;01mTrue\u001b[39;49;00m\u001b[43m,\u001b[49m\n\u001b[1;32m     30\u001b[0m \u001b[43m    \u001b[49m\u001b[43moverfitting_drop_out_rate\u001b[49m\u001b[38;5;241;43m=\u001b[39;49m\u001b[38;5;241;43m0\u001b[39;49m\u001b[43m,\u001b[49m\n\u001b[1;32m     31\u001b[0m \u001b[43m    \u001b[49m\u001b[43mweight_decay\u001b[49m\u001b[38;5;241;43m=\u001b[39;49m\u001b[38;5;241;43m0\u001b[39;49m\u001b[43m,\u001b[49m\n\u001b[1;32m     32\u001b[0m \u001b[43m    \u001b[49m\u001b[43mtype_of_loss\u001b[49m\u001b[38;5;241;43m=\u001b[39;49m\u001b[38;5;124;43m\"\u001b[39;49m\u001b[38;5;124;43mZINB\u001b[39;49m\u001b[38;5;124;43m\"\u001b[39;49m\u001b[43m,\u001b[49m\n\u001b[1;32m     33\u001b[0m \u001b[43m    \u001b[49m\u001b[43mpatience_for_early_stopping_epochs\u001b[49m\u001b[38;5;241;43m=\u001b[39;49m\u001b[38;5;241;43m10\u001b[39;49m\u001b[43m,\u001b[49m\n\u001b[1;32m     34\u001b[0m \u001b[43m    \u001b[49m\u001b[43mcross_validation_group\u001b[49m\u001b[38;5;241;43m=\u001b[39;49m\u001b[38;5;241;43m0\u001b[39;49m\u001b[43m,\u001b[49m\n\u001b[1;32m     35\u001b[0m \u001b[43m    \u001b[49m\u001b[43mdevice\u001b[49m\u001b[38;5;241;43m=\u001b[39;49m\u001b[38;5;124;43m\"\u001b[39;49m\u001b[38;5;124;43mcuda:1\u001b[39;49m\u001b[38;5;124;43m\"\u001b[39;49m\u001b[43m,\u001b[49m\n\u001b[1;32m     36\u001b[0m \u001b[43m    \u001b[49m\u001b[43mdo_IGNNK\u001b[49m\u001b[38;5;241;43m=\u001b[39;49m\u001b[38;5;28;43;01mFalse\u001b[39;49;00m\u001b[43m,\u001b[49m\n\u001b[1;32m     37\u001b[0m \u001b[43m    \u001b[49m\u001b[43monly_compute_test_error\u001b[49m\u001b[38;5;241;43m=\u001b[39;49m\u001b[38;5;28;43;01mFalse\u001b[39;49;00m\u001b[43m,\u001b[49m\n\u001b[1;32m     38\u001b[0m \u001b[43m)\u001b[49m\n",
      "File \u001b[0;32m/workspaces/ProjectTwo/src/GNNUI/ProjectRoot/gnnui/main.py:419\u001b[0m, in \u001b[0;36mtrain_GNNUI_model\u001b[0;34m(n_o_n_m, h, z, K, n_m, num_epochs, learning_rate, batch_size, include_node_features, include_node_features_if_observation_are_masked_or_missing, feature_selection, only_extrapolation_and_no_forecasting, type_of_adjacency_matrix, include_entire_graph_test_segments, percentage_of_segments_used_for_test, percentage_of_segments_used_for_training, percentage_of_the_training_data_used_for_validation, include_entire_graph_train_segments, choose_t_random_better, target_feature, schedule_learning_rate, compute_train_error_on_hidden_counter_only, compute_test_error_on_hidden_counter_only, overfitting_drop_out_rate, weight_decay, type_of_loss, patience_for_early_stopping_epochs, cross_validation_group, device, do_IGNNK, only_compute_test_error)\u001b[0m\n\u001b[1;32m    406\u001b[0m \u001b[38;5;66;03m###########################\u001b[39;00m\n\u001b[1;32m    407\u001b[0m \u001b[38;5;66;03m# Compute validation error\u001b[39;00m\n\u001b[1;32m    408\u001b[0m \u001b[38;5;66;03m###########################\u001b[39;00m\n\u001b[1;32m    410\u001b[0m torch\u001b[38;5;241m.\u001b[39mcuda\u001b[38;5;241m.\u001b[39mempty_cache()\n\u001b[1;32m    411\u001b[0m (\n\u001b[1;32m    412\u001b[0m     MAE_val,\n\u001b[1;32m    413\u001b[0m     RMSE_val,\n\u001b[1;32m    414\u001b[0m     MSE_val,\n\u001b[1;32m    415\u001b[0m     prediction_last_one_val,\n\u001b[1;32m    416\u001b[0m     truth_last_one_val,\n\u001b[1;32m    417\u001b[0m     NLL_val,\n\u001b[1;32m    418\u001b[0m     mask,\n\u001b[0;32m--> 419\u001b[0m ) \u001b[38;5;241m=\u001b[39m \u001b[43mtest_error\u001b[49m\u001b[43m(\u001b[49m\n\u001b[1;32m    420\u001b[0m \u001b[43m    \u001b[49m\u001b[43mGNN_model\u001b[49m\u001b[43m,\u001b[49m\n\u001b[1;32m    421\u001b[0m \u001b[43m    \u001b[49m\u001b[43mA_q_val_primary\u001b[49m\u001b[43m,\u001b[49m\n\u001b[1;32m    422\u001b[0m \u001b[43m    \u001b[49m\u001b[43mA_h_val_primary\u001b[49m\u001b[43m,\u001b[49m\n\u001b[1;32m    423\u001b[0m \u001b[43m    \u001b[49m\u001b[43mA_q_val_secondary\u001b[49m\u001b[43m,\u001b[49m\n\u001b[1;32m    424\u001b[0m \u001b[43m    \u001b[49m\u001b[43mA_h_val_secondary\u001b[49m\u001b[43m,\u001b[49m\n\u001b[1;32m    425\u001b[0m \u001b[43m    \u001b[49m\u001b[43mdevice\u001b[49m\u001b[43m,\u001b[49m\n\u001b[1;32m    426\u001b[0m \u001b[43m    \u001b[49m\u001b[43mtype_of_loss\u001b[49m\u001b[43m,\u001b[49m\n\u001b[1;32m    427\u001b[0m \u001b[43m    \u001b[49m\u001b[43mT_input_batches_val\u001b[49m\u001b[43m,\u001b[49m\n\u001b[1;32m    428\u001b[0m \u001b[43m    \u001b[49m\u001b[43mmask_batches_val\u001b[49m\u001b[43m,\u001b[49m\n\u001b[1;32m    429\u001b[0m \u001b[43m    \u001b[49m\u001b[43mtruth_batches_val\u001b[49m\u001b[43m,\u001b[49m\n\u001b[1;32m    430\u001b[0m \u001b[43m    \u001b[49m\u001b[43mmask_val\u001b[49m\u001b[43m,\u001b[49m\n\u001b[1;32m    431\u001b[0m \u001b[43m    \u001b[49m\u001b[43mtruth_val\u001b[49m\u001b[43m,\u001b[49m\n\u001b[1;32m    432\u001b[0m \u001b[43m\u001b[49m\u001b[43m)\u001b[49m\n\u001b[1;32m    434\u001b[0m gc\u001b[38;5;241m.\u001b[39mcollect()\n\u001b[1;32m    435\u001b[0m torch\u001b[38;5;241m.\u001b[39mcuda\u001b[38;5;241m.\u001b[39mempty_cache()\n",
      "File \u001b[0;32m/workspaces/ProjectTwo/src/GNNUI/ProjectRoot/gnnui/h_evaluation.py:262\u001b[0m, in \u001b[0;36mtest_error\u001b[0;34m(gnn_model, A_q_primary, A_h_primary, A_q_secondary, A_h_secondary, device, type_of_loss_ZINB_NB_classic, T_input_batches, mask_batches, truth_batches, mask, truth)\u001b[0m\n\u001b[1;32m    258\u001b[0m \u001b[38;5;28;01melif\u001b[39;00m type_of_loss_ZINB_NB_classic \u001b[38;5;241m==\u001b[39m \u001b[38;5;124m\"\u001b[39m\u001b[38;5;124mZINB\u001b[39m\u001b[38;5;124m\"\u001b[39m:\n\u001b[1;32m    259\u001b[0m     n_test, p_test, pi_test \u001b[38;5;241m=\u001b[39m gnn_model(\n\u001b[1;32m    260\u001b[0m         T_batch, A_q_primary, A_h_primary, A_q_secondary, A_h_secondary\n\u001b[1;32m    261\u001b[0m     )\n\u001b[0;32m--> 262\u001b[0m     ZINB_test_error_if_applicable \u001b[38;5;241m=\u001b[39m \u001b[43mnb_zeroinflated_nll_loss\u001b[49m\u001b[43m(\u001b[49m\n\u001b[1;32m    263\u001b[0m \u001b[43m        \u001b[49m\u001b[43mtruth_batch\u001b[49m\u001b[43m,\u001b[49m\u001b[43m \u001b[49m\u001b[43mn_test\u001b[49m\u001b[43m,\u001b[49m\u001b[43m \u001b[49m\u001b[43mp_test\u001b[49m\u001b[43m,\u001b[49m\u001b[43m \u001b[49m\u001b[43mpi_test\u001b[49m\u001b[43m,\u001b[49m\u001b[43m \u001b[49m\u001b[43mmask_batch\u001b[49m\u001b[43m,\u001b[49m\u001b[43m \u001b[49m\u001b[43mdevice\u001b[49m\u001b[43m,\u001b[49m\u001b[43m \u001b[49m\u001b[38;5;124;43m\"\u001b[39;49m\u001b[38;5;124;43mmean\u001b[39;49m\u001b[38;5;124;43m\"\u001b[39;49m\n\u001b[1;32m    264\u001b[0m \u001b[43m    \u001b[49m\u001b[43m)\u001b[49m\u001b[38;5;241m.\u001b[39mitem()\n\u001b[1;32m    265\u001b[0m     prediction_batch \u001b[38;5;241m=\u001b[39m (\u001b[38;5;241m1\u001b[39m \u001b[38;5;241m-\u001b[39m pi_test) \u001b[38;5;241m*\u001b[39m (\n\u001b[1;32m    266\u001b[0m         n_test \u001b[38;5;241m/\u001b[39m p_test \u001b[38;5;241m-\u001b[39m n_test\n\u001b[1;32m    267\u001b[0m     )  \u001b[38;5;66;03m# Expected value of ZINB distribution\u001b[39;00m\n\u001b[1;32m    268\u001b[0m \u001b[38;5;28;01melif\u001b[39;00m type_of_loss_ZINB_NB_classic \u001b[38;5;241m==\u001b[39m \u001b[38;5;124m\"\u001b[39m\u001b[38;5;124mNB\u001b[39m\u001b[38;5;124m\"\u001b[39m:\n",
      "File \u001b[0;32m/workspaces/ProjectTwo/src/GNNUI/ProjectRoot/gnnui/h_loss_functions.py:58\u001b[0m, in \u001b[0;36mnb_zeroinflated_nll_loss\u001b[0;34m(y, n, p, pi, y_mask, device, type_of_computation)\u001b[0m\n\u001b[1;32m     55\u001b[0m yg0 \u001b[38;5;241m=\u001b[39m y[idx_yg0]\n\u001b[1;32m     56\u001b[0m weight_yg0 \u001b[38;5;241m=\u001b[39m y_mask[idx_yg0]\n\u001b[0;32m---> 58\u001b[0m L_yeq0 \u001b[38;5;241m=\u001b[39m \u001b[43mtorch\u001b[49m\u001b[38;5;241;43m.\u001b[39;49m\u001b[43mlog\u001b[49m\u001b[43m(\u001b[49m\u001b[43mpi_yeq0\u001b[49m\u001b[43m)\u001b[49m \u001b[38;5;241m+\u001b[39m torch\u001b[38;5;241m.\u001b[39mlog((\u001b[38;5;241m1\u001b[39m \u001b[38;5;241m-\u001b[39m pi_yeq0) \u001b[38;5;241m*\u001b[39m torch\u001b[38;5;241m.\u001b[39mpow(p_yeq0, n_yeq0))\n\u001b[1;32m     59\u001b[0m L_yg0 \u001b[38;5;241m=\u001b[39m (\n\u001b[1;32m     60\u001b[0m     torch\u001b[38;5;241m.\u001b[39mlog(\u001b[38;5;241m1\u001b[39m \u001b[38;5;241m-\u001b[39m pi_yg0)\n\u001b[1;32m     61\u001b[0m     \u001b[38;5;241m+\u001b[39m torch\u001b[38;5;241m.\u001b[39mlgamma(n_yg0 \u001b[38;5;241m+\u001b[39m yg0)\n\u001b[0;32m   (...)\u001b[0m\n\u001b[1;32m     65\u001b[0m     \u001b[38;5;241m+\u001b[39m yg0 \u001b[38;5;241m*\u001b[39m torch\u001b[38;5;241m.\u001b[39mlog(\u001b[38;5;241m1\u001b[39m \u001b[38;5;241m-\u001b[39m p_yg0)\n\u001b[1;32m     66\u001b[0m )\n\u001b[1;32m     68\u001b[0m L_yeq0_weighted \u001b[38;5;241m=\u001b[39m L_yeq0 \u001b[38;5;241m*\u001b[39m weight_yeq0\n",
      "\u001b[0;31mKeyboardInterrupt\u001b[0m: "
     ]
    }
   ],
   "source": [
    "# GNNUI FOR TAXI\n",
    "(MAE_test_last,\n",
    "    RMSE_test_last,\n",
    "    NLL_test_last,\n",
    "    KL_Divergence,\n",
    "    true_zero_rate)=train_GNNUI_model(\n",
    "    n_o_n_m = 4000,\n",
    "    h = 3,\n",
    "    z = 100,\n",
    "    K = 1,\n",
    "    n_m = 500,\n",
    "    num_epochs = 250,\n",
    "    learning_rate = 0.001,\n",
    "    batch_size  = 50,\n",
    "    include_node_features = True,\n",
    "    include_node_features_if_observation_are_masked_or_missing = True,\n",
    "    feature_selection = \"full_data_all_features_for_taxi_as_target\",\n",
    "    only_extrapolation_and_no_forecasting = True,\n",
    "    type_of_adjacency_matrix = 'binary',\n",
    "    include_entire_graph_test_segments = True,\n",
    "    percentage_of_segments_used_for_test = 0.1,\n",
    "    percentage_of_segments_used_for_training = 0.9,\n",
    "    percentage_of_the_training_data_used_for_validation = 0.1,\n",
    "    include_entire_graph_train_segments = True,\n",
    "    choose_t_random_better = True,\n",
    "    target_feature = \"taxi_total_trip_count\",\n",
    "    schedule_learning_rate=True,\n",
    "    compute_train_error_on_hidden_counter_only=True,\n",
    "    compute_test_error_on_hidden_counter_only=True,\n",
    "    overfitting_drop_out_rate=0,\n",
    "    weight_decay=0,\n",
    "    type_of_loss=\"ZINB\",\n",
    "    patience_for_early_stopping_epochs=10,\n",
    "    cross_validation_group=0,\n",
    "    device=\"cuda:1\",\n",
    "    do_IGNNK=False,\n",
    "    only_compute_test_error=False,\n",
    ")"
   ]
  },
  {
   "cell_type": "code",
   "execution_count": null,
   "id": "6a53a710",
   "metadata": {},
   "outputs": [],
   "source": []
  }
 ],
 "metadata": {
  "kernelspec": {
   "display_name": ".venv",
   "language": "python",
   "name": "python3"
  },
  "language_info": {
   "codemirror_mode": {
    "name": "ipython",
    "version": 3
   },
   "file_extension": ".py",
   "mimetype": "text/x-python",
   "name": "python",
   "nbconvert_exporter": "python",
   "pygments_lexer": "ipython3",
   "version": "3.12.7"
  }
 },
 "nbformat": 4,
 "nbformat_minor": 5
}
